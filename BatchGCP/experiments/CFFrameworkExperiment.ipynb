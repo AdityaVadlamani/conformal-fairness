{
 "cells": [
  {
   "cell_type": "markdown",
   "metadata": {},
   "source": [
    "## Imports and preliminaries"
   ]
  },
  {
   "cell_type": "code",
   "execution_count": 21,
   "metadata": {
    "colab": {
     "base_uri": "https://localhost:8080/"
    },
    "executionInfo": {
     "elapsed": 23548,
     "status": "ok",
     "timestamp": 1648492251609,
     "user": {
      "displayName": "DaEto Georgy",
      "userId": "07578216823519586108"
     },
     "user_tz": 240
    },
    "id": "zAOPTJsJylLV",
    "outputId": "780637ec-b5ad-4bd7-8589-9da90bca9e46"
   },
   "outputs": [],
   "source": [
    "import sys, os\n",
    "\n",
    "sys.path.append(os.path.join(os.getcwd(), '../src'))\n",
    "os.environ[\"CUDA_MODULE_LOADING\"] = \"LAZY\"\n",
    "\n",
    "import numpy as np\n",
    "import matplotlib.pyplot as plt\n",
    "from sklearn.model_selection import train_test_split\n",
    "import torch\n",
    "import random\n",
    "\n",
    "import splitConformalPrediction\n",
    "from folktables import (\n",
    "    ACSDataSource,\n",
    "    BasicProblem,\n",
    "    adult_filter,\n",
    "    state_list,\n",
    "    travel_time_filter,\n",
    ")\n",
    "from CalibrationScorers.customAPSCalibrationScorer import customAPSCalibrationScorer\n",
    "from MultivalidAlgorithms.MultivalidCoverage import multivalid_coverage, eval_fn\n",
    "from DatasetGeneration.DivisibleDataset import divisible_dataset\n",
    "from MultivalidAlgorithms.GroupCoverage import group_coverage\n",
    "\n",
    "from utils.data_utils import get_custom_dataset\n",
    "from utils.constants import *\n"
   ]
  },
  {
   "cell_type": "code",
   "execution_count": 6,
   "metadata": {},
   "outputs": [],
   "source": [
    "seed = 0\n",
    "\n",
    "os.environ[\"PL_GLOBAL_SEED\"] = str(seed)\n",
    "random.seed(seed)\n",
    "np.random.seed(seed)\n",
    "torch.manual_seed(seed)\n",
    "    \n",
    "torch.set_float32_matmul_precision(\"medium\")"
   ]
  },
  {
   "cell_type": "code",
   "execution_count": 22,
   "metadata": {},
   "outputs": [],
   "source": [
    "class dotdict(dict):\n",
    "    \"\"\"dot.notation access to dictionary attributes\"\"\"\n",
    "    __getattr__ = dict.get\n",
    "    __setattr__ = dict.__setitem__\n",
    "    __delattr__ = dict.__delitem__\n",
    "\n",
    "# SET DATASET AND EXTRA ARGS HERE\n",
    "DATASET = POKEC_N\n",
    "SENS_ATTRS = [\"gender\"]\n",
    "DATASET_ARGS = dotdict({\"binary_sens\": False, \"small_class\": False})"
   ]
  },
  {
   "cell_type": "code",
   "execution_count": 25,
   "metadata": {},
   "outputs": [],
   "source": [
    "graph = get_custom_dataset(DATASET, \"./datasets\", sens_attrs=SENS_ATTRS, dataset_args=DATASET_ARGS, force_reprep=True)[0]\n",
    "features, labels, groups = graph.ndata[FEATURE_FIELD], graph.ndata[LABEL_FIELD], graph.ndata[SENS_FIELD]\n",
    "node_ids = torch.nonzero(labels + 1, as_tuple=True)[0]\n",
    "features, labels, groups = features[node_ids], labels[node_ids], groups[node_ids]"
   ]
  },
  {
   "cell_type": "code",
   "execution_count": 9,
   "metadata": {},
   "outputs": [],
   "source": [
    "def produce_group(feat_index, feat_value):\n",
    "    '''\n",
    "        Input: \n",
    "            - feat_index: index of desired input feature\n",
    "            - feat_value: desired value of that feature\n",
    "        Output:\n",
    "            - f - function which defines a group; f(x) returns True\n",
    "                  iff x[feat_index] == feat_value and returns False otherwise.\n",
    "    '''\n",
    "    def f(x):\n",
    "        return (x[feat_index] == feat_value)\n",
    "    \n",
    "    return f\n",
    "\n",
    "group_list = list()\n",
    "# From FolksTable Census data,\n",
    "# 1. White\n",
    "# 2. Black / African-American\n",
    "# 3. American Indian - very few\n",
    "# 4. Alaska Native - extremely few\n",
    "# 5. American Indian - also very minimal (slightly more than 4.) \n",
    "# 6. Asian\n",
    "# 7. Native Haiwaan and Other Pacific Islander - very few\n",
    "# 8. Some other race (one)\n",
    "# 9. Two or more races\n",
    "\n",
    "if \"ACS\" in DATASET:\n",
    "    list_of_sens_attrs = [1, 2, 3, 4, 5, 6, 7, 8, 9]\n",
    "else: \n",
    "    list_of_sens_attrs = torch.unique(groups).to(torch.int).tolist()\n",
    "num_groups = len(list_of_sens_attrs)\n",
    "for j in list_of_sens_attrs:\n",
    "    if DATASET == ACS_INCOME:\n",
    "        idx = 9\n",
    "    elif DATASET == ACS_EDUC:\n",
    "        idx = 8\n",
    "    else:\n",
    "        idx = -1\n",
    "    curr_group_fun = produce_group(idx, j)\n",
    "    group_list.append(curr_group_fun)\n",
    "\n",
    "def all_points(x):\n",
    "    return True\n",
    "\n",
    "basic_group = [all_points]\n",
    "num_groups_basic = 1\n",
    "\n",
    "group_fn_list =(lambda x: [group(x) for group in group_list])"
   ]
  },
  {
   "cell_type": "code",
   "execution_count": 10,
   "metadata": {},
   "outputs": [
    {
     "name": "stdout",
     "output_type": "stream",
     "text": [
      "Number of Training Points: 2638\n",
      "Number of Validation Points: 1760\n",
      "Number of Calibration Points: 2199\n",
      "Number of Test Points: 2200\n"
     ]
    }
   ],
   "source": [
    "node_ids_dev, node_ids_cal_test, features_dev, features_cal_test, label_dev, label_cal_test, group_dev, group_cal_test = train_test_split(node_ids, features, labels, groups, train_size = 0.5, shuffle = True, stratify=list(zip(labels, groups)),random_state = 0)\n",
    "\n",
    "node_ids_train, node_ids_valid, X_train, X_valid, y_train, y_valid, group_train, group_valid = train_test_split(node_ids_dev, features_dev, label_dev, group_dev, train_size = 0.6, shuffle = True, stratify=list(zip(label_dev, group_dev)),random_state = 0)\n",
    "\n",
    "node_ids_calib, node_ids_test, X_calib, X_test, y_calib, y_test, group_calib, group_test = train_test_split(node_ids_cal_test, features_cal_test, label_cal_test, group_cal_test, train_size = 0.5, shuffle = True, stratify=list(zip(label_cal_test, group_cal_test)), random_state = 0)\n",
    "\n",
    "training_size, numFeatures = np.shape(X_train)\n",
    "\n",
    "# Separate training data into training (for point-predictor) and calibration\n",
    "print(f\"Number of Training Points: {training_size}\")\n",
    "print(f\"Number of Validation Points: {len(y_valid)}\")\n",
    "print(f\"Number of Calibration Points: {len(y_calib)}\")\n",
    "print(f\"Number of Test Points: {len(y_test)}\")"
   ]
  },
  {
   "cell_type": "markdown",
   "metadata": {},
   "source": [
    "# Load base model probs"
   ]
  },
  {
   "cell_type": "code",
   "execution_count": 11,
   "metadata": {
    "executionInfo": {
     "elapsed": 8,
     "status": "ok",
     "timestamp": 1648492392939,
     "user": {
      "displayName": "DaEto Georgy",
      "userId": "07578216823519586108"
     },
     "user_tz": 240
    },
    "id": "mNqAcKetylLY"
   },
   "outputs": [],
   "source": [
    "# Parameters for our uncertainty quantifier(s)\n",
    "tau = 0.9\n",
    "delta = 1 - tau\n",
    "num_grid = 300"
   ]
  },
  {
   "cell_type": "code",
   "execution_count": 13,
   "metadata": {
    "scrolled": false
   },
   "outputs": [],
   "source": [
    "probs_calib = None\n",
    "probs_test = None\n",
    "\n",
    "SENS_PREFIX = (\"_\".join([\"\"] + SENS_ATTRS)).rstrip(\"_\")\n",
    "\n",
    "# Load in prob and labels\n",
    "if DATASET in [ACS_INCOME, ACS_EDUC, CREDIT]:\n",
    "    res = torch.load(f\"/home/vadlamani.12/DMRL/AVOIRPlusPlus/outputs/{DATASET}/hpt_{DATASET}_xgb/all_prob_labels.pt\", weights_only=False)\n",
    "elif DATASET in [POKEC_N, POKEC_Z]:\n",
    "    if SENS_PREFIX == \"_region_gender\":\n",
    "        SENS_PREFIX = \"\"\n",
    "    res = torch.load(f\"/home/vadlamani.12/DMRL/AVOIRPlusPlus/outputs/{DATASET}/split/0.3_0.2{SENS_PREFIX}/{DATASET}/best_{DATASET}_split_0.3_0.2{SENS_PREFIX}/all_prob_labels.pt\", weights_only=False)\n",
    "else:\n",
    "    raise NotImplemented(f\"{DATASET} not currently implemented\")\n",
    "\n",
    "probs = res[\"probs\"]\n",
    "probs_calib = probs[node_ids_calib, :]\n",
    "probs_test = probs[node_ids_test, :]"
   ]
  },
  {
   "cell_type": "markdown",
   "metadata": {},
   "source": [
    "# Computer scores for calibration and test points"
   ]
  },
  {
   "cell_type": "code",
   "execution_count": 14,
   "metadata": {},
   "outputs": [
    {
     "name": "stdout",
     "output_type": "stream",
     "text": [
      "Getting calibration scores...\n",
      "Got calibration scores\n",
      "Getting test scores...\n",
      "Got test scores\n"
     ]
    }
   ],
   "source": [
    "# Convert y_calib values into threshold values in order to train for conformal prediction \n",
    "from CalibrationScorers.customAPSCalibrationScorer import customAPSCalibrationScorer\n",
    "import math\n",
    "\n",
    "num_batches = 100\n",
    "\n",
    "apsCalibrationScorer = customAPSCalibrationScorer()\n",
    "\n",
    "apsCalibrationScorer.update(lambda x: x)\n",
    "\n",
    "calibration_set_size = len(y_calib)\n",
    "test_set_size = len(y_test)\n",
    "\n",
    "print(\"Getting calibration scores...\")\n",
    "calib_per_batch = math.ceil(calibration_set_size / num_batches)\n",
    "input_calib = X_calib\n",
    "if probs_calib is not None:\n",
    "    input_calib = probs_calib.numpy()\n",
    "\n",
    "w_calib = np.concatenate([apsCalibrationScorer.calc_score(input_calib[i * calib_per_batch: (i + 1) * calib_per_batch]) for i in range(num_batches + 1)]) \n",
    "print(\"Got calibration scores\")\n",
    "\n",
    "print(\"Getting test scores...\")\n",
    "test_per_batch = math.ceil(test_set_size / num_batches)\n",
    "input_test = X_test\n",
    "if probs_test is not None:\n",
    "    input_test = probs_test.numpy()\n",
    "    \n",
    "w_test = np.concatenate([apsCalibrationScorer.calc_score(input_test[i * test_per_batch: (i + 1) * test_per_batch]) for i in range(num_batches + 1)]) #, y_test[i * test_per_batch: (i + 1) * test_per_batch]\n",
    "print(\"Got test scores\")"
   ]
  },
  {
   "cell_type": "code",
   "execution_count": 15,
   "metadata": {},
   "outputs": [
    {
     "name": "stdout",
     "output_type": "stream",
     "text": [
      "Pokec_n\n"
     ]
    },
    {
     "name": "stderr",
     "output_type": "stream",
     "text": [
      "WARNING:2025-02-05 14:28:10,849:jax._src.xla_bridge:987: An NVIDIA GPU may be present on this machine, but a CUDA-enabled jaxlib is not installed. Falling back to cpu.\n"
     ]
    },
    {
     "name": "stdout",
     "output_type": "stream",
     "text": [
      "\n",
      "Optimal theta found: [0.87168974 0.8872228 ]\n"
     ]
    }
   ],
   "source": [
    "# One-shot algorithm for group coverage\n",
    "print(DATASET)\n",
    "\n",
    "X_calib_with_sens = X_calib\n",
    "if DATASET in [POKEC_N, POKEC_Z]:\n",
    "    X_calib_with_sens = torch.cat((X_calib, group_calib.reshape(-1, 1)), axis=1)\n",
    "\n",
    "group_accurate_model, opt_theta = group_coverage(tau=tau, x_train=X_calib_with_sens, y_train=w_calib[torch.arange(calibration_set_size), y_calib], num_groups=num_groups, group_fn=group_fn_list)"
   ]
  },
  {
   "cell_type": "markdown",
   "metadata": {},
   "source": [
    "## Plotting Results"
   ]
  },
  {
   "cell_type": "code",
   "execution_count": 16,
   "metadata": {
    "scrolled": true
   },
   "outputs": [
    {
     "data": {
      "image/png": "[encoded data removed]",
      "text/plain": [
       "<Figure size 1000x700 with 1 Axes>"
      ]
     },
     "metadata": {},
     "output_type": "display_data"
    },
    {
     "name": "stdout",
     "output_type": "stream",
     "text": [
      "Coverage on group 1 : 0.8755144032921811\n",
      "Coverage on group 2 : 0.8900651465798045\n"
     ]
    }
   ],
   "source": [
    "from utils.MultivalidPlotting import plot_group_coverage, plot_all_group_coverage\n",
    "\n",
    "X_test_with_sens = X_test\n",
    "if DATASET in [POKEC_N, POKEC_Z]:\n",
    "    X_test_with_sens = torch.cat((X_test, group_test.reshape(-1, 1)), axis=1)\n",
    "\n",
    "plot_group_coverage(model=group_accurate_model, tau=tau, x_test=X_test_with_sens, y_test=w_test[torch.arange(test_set_size), y_test], num_groups=num_groups, group_fn=group_fn_list, multivalid=False, verbose=True)"
   ]
  },
  {
   "cell_type": "code",
   "execution_count": 17,
   "metadata": {
    "scrolled": false
   },
   "outputs": [
    {
     "data": {
      "image/png": "[encoded data removed]",
      "text/plain": [
       "<Figure size 1000x700 with 1 Axes>"
      ]
     },
     "metadata": {},
     "output_type": "display_data"
    },
    {
     "name": "stdout",
     "output_type": "stream",
     "text": [
      "Average prediction set size on group 1 : 2.1213991769547325\n",
      "Average prediction set size on group 2 : 2.210912052117264\n"
     ]
    }
   ],
   "source": [
    "from utils.MultivalidPlotting import plot_pred_set_size\n",
    "\n",
    "X_test_with_sens = X_test\n",
    "if DATASET in [POKEC_N, POKEC_Z]:\n",
    "    X_test_with_sens = torch.cat((X_test, group_test.reshape(-1, 1)), axis=1)\n",
    "\n",
    "plot_pred_set_size(model=group_accurate_model, tau=tau, x_test=X_test_with_sens, y_test=w_test, num_groups=num_groups, group_fn=group_fn_list, mult_width = 1, multivalid=False, verbose=True, mode=\"clf\")"
   ]
  },
  {
   "cell_type": "markdown",
   "metadata": {},
   "source": [
    "# Conformal Fairness Evaluation"
   ]
  },
  {
   "cell_type": "code",
   "execution_count": 18,
   "metadata": {},
   "outputs": [],
   "source": [
    "from enum import Enum\n",
    "\n",
    "FAIRNESS_METRICS = Enum(\n",
    "    \"FAIRNESS_METRICS\",\n",
    "    [\n",
    "        \"Demographic_Parity\",\n",
    "        \"Disparate_Impact\",\n",
    "    ],\n",
    ")\n",
    "\n",
    "# Define filter function\n",
    "def get_filter_mask(fairness_metric, labels, groups, pos_label, group_id):\n",
    "    assert (\n",
    "        labels.shape[0] == groups.shape[0]\n",
    "    ), f\"Got {labels.shape[0]} labels, but {groups.shape[0]} groups\"\n",
    "\n",
    "    match fairness_metric:\n",
    "        case (\n",
    "            FAIRNESS_METRICS.Demographic_Parity.name\n",
    "            | FAIRNESS_METRICS.Disparate_Impact.name\n",
    "        ):\n",
    "            return (groups == group_id).reshape(-1)\n",
    "        case _:\n",
    "            raise NotImplementedError(\n",
    "                f\"Filtering function not implemented for {fairness_metric}\"\n",
    "            )\n",
    "\n",
    "def set_sizes(prediction_sets):\n",
    "    return prediction_sets.sum(dim=1)\n",
    "\n",
    "def calc_coverage(prediction_sets, labels):\n",
    "    includes_true_label = prediction_sets.gather(1, labels.unsqueeze(1)).squeeze()\n",
    "    empirical_coverage = includes_true_label.sum() / len(prediction_sets)\n",
    "    return empirical_coverage\n",
    "\n",
    "def calc_efficiency(prediction_sets):\n",
    "    empirical_efficiency = set_sizes(prediction_sets).sum() / len(prediction_sets)\n",
    "    return empirical_efficiency\n",
    "            \n",
    "# Define unique groups and labels to be use for CF framework\n",
    "all_groups = torch.unique(groups.to(torch.int))\n",
    "all_labels = torch.unique(labels.to(torch.int))\n",
    "pos_labels = torch.nonzero(all_labels, as_tuple=True)[0]"
   ]
  },
  {
   "cell_type": "code",
   "execution_count": 19,
   "metadata": {},
   "outputs": [],
   "source": [
    "X_test_with_sens = X_test\n",
    "if DATASET in [POKEC_N, POKEC_Z]:\n",
    "    X_test_with_sens = torch.cat((X_test, group_test.reshape(-1, 1)), axis=1)\n",
    "\n",
    "pred_sets = np.concatenate([w_test[i] <= group_accurate_model(X_test_with_sens[i]) for i in range(test_set_size)])\n",
    "pred_sets = torch.from_numpy(pred_sets.reshape(test_set_size, -1))"
   ]
  },
  {
   "cell_type": "code",
   "execution_count": 20,
   "metadata": {},
   "outputs": [
    {
     "name": "stdout",
     "output_type": "stream",
     "text": [
      "Pokec_n_gender\n",
      "Coverage: 0.8836363554000854\n",
      "Efficiency: [tensor(2.1714)]\n",
      "\n",
      "\n",
      "FAIRNESS_METRICS.Demographic_Parity\n",
      "Worst Violation is: 0.014550745487213135\n",
      "\n",
      "FAIRNESS_METRICS.Disparate_Impact\n",
      "Worst Violation is: 0.9836520552635193\n",
      "\n"
     ]
    }
   ],
   "source": [
    "res = {\"metric\": [], \"eff\": [], \"violation\": []}\n",
    "\n",
    "res[\"eff\"].append(calc_efficiency(pred_sets))\n",
    "\n",
    "print(\"_\".join([DATASET] + SENS_ATTRS))\n",
    "\n",
    "print(f\"Coverage: {calc_coverage(pred_sets, y_test)}\")\n",
    "print(f\"Efficiency: {res['eff']}\\n\\n\")\n",
    "\n",
    "for metric in FAIRNESS_METRICS:\n",
    "    print(metric)\n",
    "    res[\"metric\"].append(metric)\n",
    "    if metric.name == FAIRNESS_METRICS.Disparate_Impact.name:\n",
    "        worst_violation = float('inf')\n",
    "    else:\n",
    "        worst_violation = -float('inf')\n",
    "        \n",
    "    for label in pos_labels:\n",
    "        coverages = []\n",
    "        for g_i in all_groups:\n",
    "            filtered_test_mask = get_filter_mask(\n",
    "                metric.name, y_test, group_test, label, g_i\n",
    "            )\n",
    "\n",
    "            cov_labels = y_test[filtered_test_mask]\n",
    "\n",
    "            cov = calc_coverage(\n",
    "                pred_sets[filtered_test_mask, :], cov_labels\n",
    "            )\n",
    "            coverages.append(cov)\n",
    "\n",
    "#             print(\n",
    "#                 f\"Positive Label Coverage for y_k = {label} and g_i = {g_i} = {cov}\"\n",
    "#             )\n",
    "#         print()\n",
    "        \n",
    "        if metric.name == FAIRNESS_METRICS.Disparate_Impact.name:\n",
    "#             print(f\"Actual Coverage Ratio={min(coverages) / max(coverages)}\\n\")\n",
    "            worst_violation = min(min(coverages) / max(coverages), worst_violation)\n",
    "        else:\n",
    "#             print(f\"Actual Coverage Delta={max(coverages) - min(coverages)}\\n\")\n",
    "            worst_violation = max(max(coverages) - min(coverages), worst_violation)\n",
    "#     print()\n",
    "        \n",
    "    \n",
    "    res['violation'].append(worst_violation)\n",
    "    print(f\"Worst Violation is: {worst_violation}\\n\")\n"
   ]
  }
 ],
 "metadata": {
  "colab": {
   "name": "Linear Regression Experiment.ipynb",
   "provenance": []
  },
  "kernelspec": {
   "display_name": "fedcp",
   "language": "python",
   "name": "python3"
  },
  "language_info": {
   "codemirror_mode": {
    "name": "ipython",
    "version": 3
   },
   "file_extension": ".py",
   "mimetype": "text/x-python",
   "name": "python",
   "nbconvert_exporter": "python",
   "pygments_lexer": "ipython3",
   "version": "3.11.11"
  }
 },
 "nbformat": 4,
 "nbformat_minor": 1
}
